{
 "cells": [
  {
   "cell_type": "markdown",
   "id": "894e826a-67b6-4b61-a81f-0081f782bc2d",
   "metadata": {},
   "source": [
    "# Data Science Tools and Ecosystem"
   ]
  },
  {
   "cell_type": "markdown",
   "id": "45914222-11f9-4a94-8496-749b1a7a9cd0",
   "metadata": {},
   "source": [
    "In this notebook, Data Science Tools and Ecosystem are summarized."
   ]
  },
  {
   "cell_type": "markdown",
   "id": "1d6c510b-ce52-4afa-bcf6-962936735fc5",
   "metadata": {},
   "source": [
    "Some of the popular languages that Data Scientists use are:"
   ]
  },
  {
   "cell_type": "markdown",
   "id": "31480087-55cb-4e96-b320-6cb0bb988b87",
   "metadata": {},
   "source": [
    "1. Python\n",
    "2. R\n",
    "3. Julia"
   ]
  },
  {
   "cell_type": "markdown",
   "id": "f123b55e-7026-468b-be33-8712cad649c0",
   "metadata": {},
   "source": [
    "Some of the commonly used libraries used by Data Scientists include:"
   ]
  },
  {
   "cell_type": "markdown",
   "id": "30606e6a-e969-490f-b9dc-e4e92991c479",
   "metadata": {},
   "source": [
    "1. Scikit-learn\n",
    "2. TensorFlow \n",
    "3. Apache Spark"
   ]
  },
  {
   "cell_type": "markdown",
   "id": "69b2ce6b-c0c9-42c1-9753-8212849b5ca7",
   "metadata": {},
   "source": [
    "| Data Science Tools |\n",
    "|--------------------|\n",
    "| SQL server |\n",
    "| Jupyter notebooks |\n",
    "| IBM Watson Studio |"
   ]
  },
  {
   "cell_type": "markdown",
   "id": "c13b94ad-beb7-4b29-ac74-da6212d3e439",
   "metadata": {},
   "source": [
    "### Below are a few examples of evaluating arithmetic expressions in Python"
   ]
  },
  {
   "cell_type": "code",
   "execution_count": 13,
   "id": "cced8e99-27fc-4ccc-875e-6684d9da5dd6",
   "metadata": {},
   "outputs": [
    {
     "data": {
      "text/plain": [
       "15"
      ]
     },
     "execution_count": 13,
     "metadata": {},
     "output_type": "execute_result"
    }
   ],
   "source": [
    "x = 3\n",
    "y = 5\n",
    "z = x * y\n",
    "z"
   ]
  },
  {
   "cell_type": "code",
   "execution_count": 16,
   "id": "d2a285e8-65b5-46cd-b4fd-d5e56d9d9112",
   "metadata": {},
   "outputs": [
    {
     "data": {
      "text/plain": [
       "17"
      ]
     },
     "execution_count": 16,
     "metadata": {},
     "output_type": "execute_result"
    }
   ],
   "source": [
    "# This a simple arithmetic expression to mutiply then add integers\n",
    "(3 * 4) + 5"
   ]
  },
  {
   "cell_type": "code",
   "execution_count": 18,
   "id": "4ede899e-3192-4a5b-8c99-a44f7edbf556",
   "metadata": {},
   "outputs": [
    {
     "data": {
      "text/plain": [
       "3.3333333333333335"
      ]
     },
     "execution_count": 18,
     "metadata": {},
     "output_type": "execute_result"
    }
   ],
   "source": [
    "# This will convert 200 minutes to hours by diving by 60\n",
    "200 / 60"
   ]
  },
  {
   "cell_type": "markdown",
   "id": "7a7063e8-da68-4aee-a268-33dd5239effa",
   "metadata": {},
   "source": [
    "***Objectives:***\n",
    "* List popular languages for Data Science\n",
    "* List popular tools used in Data Science\n",
    "* List open sources used by Data Scientists"
   ]
  },
  {
   "cell_type": "markdown",
   "id": "8123192a-a172-4c87-9266-3a5907baea56",
   "metadata": {},
   "source": [
    "## Author\n",
    "Sheema Sultana"
   ]
  },
  {
   "cell_type": "code",
   "execution_count": null,
   "id": "2fd99470-652e-456b-af04-bc53a3ad8f50",
   "metadata": {},
   "outputs": [],
   "source": []
  }
 ],
 "metadata": {
  "kernelspec": {
   "display_name": "anaconda-panel-2023.05-py310",
   "language": "python",
   "name": "conda-env-anaconda-panel-2023.05-py310-py"
  },
  "language_info": {
   "codemirror_mode": {
    "name": "ipython",
    "version": 3
   },
   "file_extension": ".py",
   "mimetype": "text/x-python",
   "name": "python",
   "nbconvert_exporter": "python",
   "pygments_lexer": "ipython3",
   "version": "3.11.5"
  }
 },
 "nbformat": 4,
 "nbformat_minor": 5
}
